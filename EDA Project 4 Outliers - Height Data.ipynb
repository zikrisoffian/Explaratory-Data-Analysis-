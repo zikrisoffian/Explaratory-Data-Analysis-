{
 "cells": [
  {
   "cell_type": "markdown",
   "id": "cd33f8c4",
   "metadata": {},
   "source": [
    "# Exploratory Data Analysis [Outliers - Height Data]\n",
    "\n",
    "Methods of measurement included: Variance, Standard Deviation, Skewness, Percentiles, and Ranges"
   ]
  },
  {
   "cell_type": "markdown",
   "id": "2e87b3e5",
   "metadata": {},
   "source": [
    "## Data Preparation"
   ]
  },
  {
   "cell_type": "markdown",
   "id": "7cc53b37",
   "metadata": {},
   "source": [
    "#### Load package"
   ]
  },
  {
   "cell_type": "code",
   "execution_count": 31,
   "id": "71582942",
   "metadata": {},
   "outputs": [],
   "source": [
    "import numpy as np\n",
    "import pandas as pd\n",
    "import matplotlib.pyplot as plt\n",
    "import seaborn as sns\n",
    "import scipy.stats as stats\n",
    "import math\n",
    "\n",
    "%matplotlib inline"
   ]
  },
  {
   "cell_type": "markdown",
   "id": "df4053a7",
   "metadata": {},
   "source": [
    "## Gaussian Probability Distribution"
   ]
  },
  {
   "cell_type": "markdown",
   "id": "b90dbbce",
   "metadata": {},
   "source": [
    "#### Load dataset"
   ]
  },
  {
   "cell_type": "code",
   "execution_count": 32,
   "id": "5fece7c0",
   "metadata": {
    "scrolled": true
   },
   "outputs": [
    {
     "data": {
      "text/html": [
       "<div>\n",
       "<style scoped>\n",
       "    .dataframe tbody tr th:only-of-type {\n",
       "        vertical-align: middle;\n",
       "    }\n",
       "\n",
       "    .dataframe tbody tr th {\n",
       "        vertical-align: top;\n",
       "    }\n",
       "\n",
       "    .dataframe thead th {\n",
       "        text-align: right;\n",
       "    }\n",
       "</style>\n",
       "<table border=\"1\" class=\"dataframe\">\n",
       "  <thead>\n",
       "    <tr style=\"text-align: right;\">\n",
       "      <th></th>\n",
       "      <th>Index</th>\n",
       "      <th>Height(Inches)</th>\n",
       "      <th>Weight(Pounds)</th>\n",
       "    </tr>\n",
       "  </thead>\n",
       "  <tbody>\n",
       "    <tr>\n",
       "      <th>0</th>\n",
       "      <td>1</td>\n",
       "      <td>65.78331</td>\n",
       "      <td>112.9925</td>\n",
       "    </tr>\n",
       "    <tr>\n",
       "      <th>1</th>\n",
       "      <td>2</td>\n",
       "      <td>71.51521</td>\n",
       "      <td>136.4873</td>\n",
       "    </tr>\n",
       "    <tr>\n",
       "      <th>2</th>\n",
       "      <td>3</td>\n",
       "      <td>69.39874</td>\n",
       "      <td>153.0269</td>\n",
       "    </tr>\n",
       "    <tr>\n",
       "      <th>3</th>\n",
       "      <td>4</td>\n",
       "      <td>68.21660</td>\n",
       "      <td>142.3354</td>\n",
       "    </tr>\n",
       "    <tr>\n",
       "      <th>4</th>\n",
       "      <td>5</td>\n",
       "      <td>67.78781</td>\n",
       "      <td>144.2971</td>\n",
       "    </tr>\n",
       "  </tbody>\n",
       "</table>\n",
       "</div>"
      ],
      "text/plain": [
       "   Index  Height(Inches)  Weight(Pounds)\n",
       "0      1        65.78331        112.9925\n",
       "1      2        71.51521        136.4873\n",
       "2      3        69.39874        153.0269\n",
       "3      4        68.21660        142.3354\n",
       "4      5        67.78781        144.2971"
      ]
     },
     "execution_count": 32,
     "metadata": {},
     "output_type": "execute_result"
    }
   ],
   "source": [
    "# load csv data\n",
    "\n",
    "df = pd.read_csv('height_weight.csv')\n",
    "df.head()"
   ]
  },
  {
   "cell_type": "code",
   "execution_count": 33,
   "id": "f7610d76",
   "metadata": {
    "scrolled": true
   },
   "outputs": [
    {
     "data": {
      "text/html": [
       "<div>\n",
       "<style scoped>\n",
       "    .dataframe tbody tr th:only-of-type {\n",
       "        vertical-align: middle;\n",
       "    }\n",
       "\n",
       "    .dataframe tbody tr th {\n",
       "        vertical-align: top;\n",
       "    }\n",
       "\n",
       "    .dataframe thead th {\n",
       "        text-align: right;\n",
       "    }\n",
       "</style>\n",
       "<table border=\"1\" class=\"dataframe\">\n",
       "  <thead>\n",
       "    <tr style=\"text-align: right;\">\n",
       "      <th></th>\n",
       "      <th>Index</th>\n",
       "      <th>Height(Inches)</th>\n",
       "      <th>Weight(Pounds)</th>\n",
       "      <th>Weight(Kg)</th>\n",
       "      <th>Height(cm)</th>\n",
       "    </tr>\n",
       "  </thead>\n",
       "  <tbody>\n",
       "    <tr>\n",
       "      <th>0</th>\n",
       "      <td>1</td>\n",
       "      <td>65.78331</td>\n",
       "      <td>112.9925</td>\n",
       "      <td>51.252494</td>\n",
       "      <td>167.089607</td>\n",
       "    </tr>\n",
       "    <tr>\n",
       "      <th>1</th>\n",
       "      <td>2</td>\n",
       "      <td>71.51521</td>\n",
       "      <td>136.4873</td>\n",
       "      <td>61.909547</td>\n",
       "      <td>181.648633</td>\n",
       "    </tr>\n",
       "    <tr>\n",
       "      <th>2</th>\n",
       "      <td>3</td>\n",
       "      <td>69.39874</td>\n",
       "      <td>153.0269</td>\n",
       "      <td>69.411778</td>\n",
       "      <td>176.272800</td>\n",
       "    </tr>\n",
       "    <tr>\n",
       "      <th>3</th>\n",
       "      <td>4</td>\n",
       "      <td>68.21660</td>\n",
       "      <td>142.3354</td>\n",
       "      <td>64.562199</td>\n",
       "      <td>173.270164</td>\n",
       "    </tr>\n",
       "    <tr>\n",
       "      <th>4</th>\n",
       "      <td>5</td>\n",
       "      <td>67.78781</td>\n",
       "      <td>144.2971</td>\n",
       "      <td>65.452010</td>\n",
       "      <td>172.181037</td>\n",
       "    </tr>\n",
       "  </tbody>\n",
       "</table>\n",
       "</div>"
      ],
      "text/plain": [
       "   Index  Height(Inches)  Weight(Pounds)  Weight(Kg)  Height(cm)\n",
       "0      1        65.78331        112.9925   51.252494  167.089607\n",
       "1      2        71.51521        136.4873   61.909547  181.648633\n",
       "2      3        69.39874        153.0269   69.411778  176.272800\n",
       "3      4        68.21660        142.3354   64.562199  173.270164\n",
       "4      5        67.78781        144.2971   65.452010  172.181037"
      ]
     },
     "execution_count": 33,
     "metadata": {},
     "output_type": "execute_result"
    }
   ],
   "source": [
    "# add new column : Weight(Kg)\n",
    "\n",
    "df['Weight(Kg)'] = df['Weight(Pounds)'] * 0.453592\n",
    "df['Height(cm)'] = df['Height(Inches)'] * 2.54\n",
    "df.head()"
   ]
  },
  {
   "cell_type": "code",
   "execution_count": 34,
   "id": "d051ddb8",
   "metadata": {
    "scrolled": true
   },
   "outputs": [
    {
     "data": {
      "text/html": [
       "<div>\n",
       "<style scoped>\n",
       "    .dataframe tbody tr th:only-of-type {\n",
       "        vertical-align: middle;\n",
       "    }\n",
       "\n",
       "    .dataframe tbody tr th {\n",
       "        vertical-align: top;\n",
       "    }\n",
       "\n",
       "    .dataframe thead th {\n",
       "        text-align: right;\n",
       "    }\n",
       "</style>\n",
       "<table border=\"1\" class=\"dataframe\">\n",
       "  <thead>\n",
       "    <tr style=\"text-align: right;\">\n",
       "      <th></th>\n",
       "      <th>count</th>\n",
       "      <th>mean</th>\n",
       "      <th>std</th>\n",
       "      <th>min</th>\n",
       "      <th>25%</th>\n",
       "      <th>50%</th>\n",
       "      <th>75%</th>\n",
       "      <th>max</th>\n",
       "    </tr>\n",
       "  </thead>\n",
       "  <tbody>\n",
       "    <tr>\n",
       "      <th>Index</th>\n",
       "      <td>25000.0</td>\n",
       "      <td>12500.500000</td>\n",
       "      <td>7217.022701</td>\n",
       "      <td>1.000000</td>\n",
       "      <td>6250.750000</td>\n",
       "      <td>12500.500000</td>\n",
       "      <td>18750.250000</td>\n",
       "      <td>25000.000000</td>\n",
       "    </tr>\n",
       "    <tr>\n",
       "      <th>Height(Inches)</th>\n",
       "      <td>25000.0</td>\n",
       "      <td>67.993114</td>\n",
       "      <td>1.901679</td>\n",
       "      <td>60.278360</td>\n",
       "      <td>66.704397</td>\n",
       "      <td>67.995700</td>\n",
       "      <td>69.272958</td>\n",
       "      <td>75.152800</td>\n",
       "    </tr>\n",
       "    <tr>\n",
       "      <th>Weight(Pounds)</th>\n",
       "      <td>25000.0</td>\n",
       "      <td>127.079421</td>\n",
       "      <td>11.660898</td>\n",
       "      <td>78.014760</td>\n",
       "      <td>119.308675</td>\n",
       "      <td>127.157750</td>\n",
       "      <td>134.892850</td>\n",
       "      <td>170.924000</td>\n",
       "    </tr>\n",
       "    <tr>\n",
       "      <th>Weight(Kg)</th>\n",
       "      <td>25000.0</td>\n",
       "      <td>57.642209</td>\n",
       "      <td>5.289290</td>\n",
       "      <td>35.386871</td>\n",
       "      <td>54.117461</td>\n",
       "      <td>57.677738</td>\n",
       "      <td>61.186318</td>\n",
       "      <td>77.529759</td>\n",
       "    </tr>\n",
       "    <tr>\n",
       "      <th>Height(cm)</th>\n",
       "      <td>25000.0</td>\n",
       "      <td>172.702509</td>\n",
       "      <td>4.830264</td>\n",
       "      <td>153.107034</td>\n",
       "      <td>169.429170</td>\n",
       "      <td>172.709078</td>\n",
       "      <td>175.953312</td>\n",
       "      <td>190.888112</td>\n",
       "    </tr>\n",
       "  </tbody>\n",
       "</table>\n",
       "</div>"
      ],
      "text/plain": [
       "                  count          mean          std         min          25%  \\\n",
       "Index           25000.0  12500.500000  7217.022701    1.000000  6250.750000   \n",
       "Height(Inches)  25000.0     67.993114     1.901679   60.278360    66.704397   \n",
       "Weight(Pounds)  25000.0    127.079421    11.660898   78.014760   119.308675   \n",
       "Weight(Kg)      25000.0     57.642209     5.289290   35.386871    54.117461   \n",
       "Height(cm)      25000.0    172.702509     4.830264  153.107034   169.429170   \n",
       "\n",
       "                         50%           75%           max  \n",
       "Index           12500.500000  18750.250000  25000.000000  \n",
       "Height(Inches)     67.995700     69.272958     75.152800  \n",
       "Weight(Pounds)    127.157750    134.892850    170.924000  \n",
       "Weight(Kg)         57.677738     61.186318     77.529759  \n",
       "Height(cm)        172.709078    175.953312    190.888112  "
      ]
     },
     "execution_count": 34,
     "metadata": {},
     "output_type": "execute_result"
    }
   ],
   "source": [
    "# describe dataset\n",
    "\n",
    "df.describe().transpose()"
   ]
  },
  {
   "cell_type": "code",
   "execution_count": 35,
   "id": "0852fc3f",
   "metadata": {},
   "outputs": [],
   "source": [
    "# set dataset\n",
    "# we have to sort the value of x in accending order\n",
    "\n",
    "x = df['Height(cm)']\n",
    "x = x.sort_values()\n",
    "mean = np.mean(x)\n",
    "std_dev = np.std(x, ddof = 1)"
   ]
  },
  {
   "cell_type": "markdown",
   "id": "0ad18739",
   "metadata": {},
   "source": [
    "#### Gaussian Probability Density Function"
   ]
  },
  {
   "attachments": {
    "gaussian%201.jpg": {
     "image/jpeg": "[encoded data removed]"
    }
   },
   "cell_type": "markdown",
   "id": "a4eef065",
   "metadata": {},
   "source": [
    "![gaussian%201.jpg](attachment:gaussian%201.jpg)"
   ]
  },
  {
   "cell_type": "code",
   "execution_count": 36,
   "id": "bd76eb31",
   "metadata": {},
   "outputs": [],
   "source": [
    "fx = np.exp(( -(x - mean) ** 2)/(2 * (std_dev ** 2)))/ ((2 * np.pi * std_dev ** 2) ** 0.5)"
   ]
  },
  {
   "cell_type": "markdown",
   "id": "916d270f",
   "metadata": {},
   "source": [
    "## Plot Normal Distribution 68-95-99.7 rule"
   ]
  },
  {
   "cell_type": "code",
   "execution_count": 37,
   "id": "6f1abc82",
   "metadata": {
    "scrolled": true
   },
   "outputs": [
    {
     "data": {
      "text/plain": [
       "<matplotlib.legend.Legend at 0x1aeac199660>"
      ]
     },
     "execution_count": 37,
     "metadata": {},
     "output_type": "execute_result"
    },
    {
     "data": {
      "image/png": "[encoded data removed]",
      "text/plain": [
       "<Figure size 1000x600 with 1 Axes>"
      ]
     },
     "metadata": {},
     "output_type": "display_data"
    }
   ],
   "source": [
    "# Normal Distribution 68-95-99.7 rule\n",
    "\n",
    "plt.figure(figsize = (10,6))\n",
    "plt.plot(x,fx) \n",
    "plt.fill_between(x, fx, where = (x >= mean - 1 * std_dev) & (x <= mean + 1 * std_dev)  , color = \"blue\", alpha = 0.4 , label = '±1 SD includes 68.3% of total observation')\n",
    "plt.fill_between(x, fx, where = (x >= mean - 2 * std_dev) & (x <= mean + 2 * std_dev)  , color = \"blue\", alpha = 0.3 , label = '±2 SD includes 95.5% of total observation')\n",
    "plt.fill_between(x, fx, where = (x >= mean - 3 * std_dev) & (x <= mean + 3 * std_dev)  , color = \"blue\", alpha = 0.2 , label = '±3 SD includes 99.7% of total observation')\n",
    "plt.xlabel('Height(cm)')\n",
    "plt.ylabel('Probability Density')\n",
    "plt.title('Normal Distribution 68-95-99.7 rule')\n",
    "plt.text(160, 0.05, f'Lower Limit: {round(mean - 1 * std_dev,2)}')\n",
    "plt.text(178, 0.05, f'Upper Limit: {round(mean + 1 * std_dev,2)}')\n",
    "plt.text(155, 0.015, f'Lower Limit: {round(mean - 2 * std_dev,2)}')\n",
    "plt.text(182, 0.015, f'Upper Limit: {round(mean + 2 * std_dev,2)}')\n",
    "plt.text(150, 0.005, f'Lower Limit: {round(mean - 3 * std_dev,2)}')\n",
    "plt.text(188, 0.005, f'Upper Limit: {round(mean + 3 * std_dev,2)}')\n",
    "plt.legend()"
   ]
  },
  {
   "cell_type": "raw",
   "id": "2821e31a",
   "metadata": {},
   "source": [
    "\n",
    "\n",
    "\n",
    "\n",
    "\n",
    "\n"
   ]
  },
  {
   "cell_type": "markdown",
   "id": "a7e540f8",
   "metadata": {},
   "source": [
    "# Outliers"
   ]
  },
  {
   "cell_type": "markdown",
   "id": "f01f4aba",
   "metadata": {},
   "source": [
    "Outliers by Malcolm Gladwell\n",
    "\n",
    "\"Outliers are those that have been given an opportunities - and who have had the strength and presence of mind to seize them.”"
   ]
  },
  {
   "cell_type": "markdown",
   "id": "60d3d3d9",
   "metadata": {},
   "source": [
    "#### Overview\n",
    "Outliers are rare, distinct, and does not fit the whole dataset.\n",
    "\n",
    "Sometimes our dataset contain extreme values that is outside of our expected range. We need to understand and if necessary, remove these outliers. Removing these outliers is important step to ensure that the observation best represent the whole population."
   ]
  },
  {
   "cell_type": "markdown",
   "id": "76a5cb6d",
   "metadata": {},
   "source": [
    "#### Outliers causes\n",
    "\n",
    "1. Measurement error or Input Error\n",
    "2. Data Corruption\n",
    "3. True outliers"
   ]
  },
  {
   "cell_type": "markdown",
   "id": "a7d1ca63",
   "metadata": {},
   "source": [
    "#### Methods to remove outliers\n",
    "\n",
    "1. Standard Deviation Method\n",
    "2. Interquantile (IQR Based) method\n",
    "3. Percentile method"
   ]
  },
  {
   "cell_type": "markdown",
   "id": "4475ab63",
   "metadata": {},
   "source": [
    "## [1] Removing Outliers - Standard Deviation method"
   ]
  },
  {
   "cell_type": "markdown",
   "id": "1e491a2a",
   "metadata": {},
   "source": [
    "If we know that the distribution of values in the sample is Gaussian or Gaussian-like (Normal Distribution) , we can use the standard deviation of the sample as a cut-off for identifying outliers.\n",
    "\n",
    "Three standard deviations from the mean is a common cut-off in practice for identifying outliers in a Gaussian or Gaussian-like distribution. For smaller samples of data, perhaps a value of 2 standard deviations (95%) can be used, and for larger samples, perhaps a value of 4 standard deviations (99.9%) can be used."
   ]
  },
  {
   "cell_type": "code",
   "execution_count": 38,
   "id": "3e712ae7",
   "metadata": {},
   "outputs": [
    {
     "data": {
      "text/plain": [
       "Text(188, 0.005, 'Upper Limit: 187.19')"
      ]
     },
     "execution_count": 38,
     "metadata": {},
     "output_type": "execute_result"
    },
    {
     "data": {
      "image/png": "[encoded data removed]",
      "text/plain": [
       "<Figure size 1000x600 with 1 Axes>"
      ]
     },
     "metadata": {},
     "output_type": "display_data"
    }
   ],
   "source": [
    "# Normal Distribution within ±3 SD\n",
    "plt.figure(figsize = (10,6))\n",
    "plt.plot(x,fx) \n",
    "plt.fill_between(x, fx, where = (x >= mean - 3 * std_dev) & (x <= mean + 3 * std_dev)  , color = \"blue\", alpha = 0.2 )\n",
    "plt.xlabel('Height(cm)')\n",
    "plt.ylabel('Probability Density')\n",
    "plt.title('Normal Distribution within ±3 SD includes 99.7% of total observation ')\n",
    "plt.text(150, 0.005, f'Lower Limit: {round(mean - 3 * std_dev,2)}')\n",
    "plt.text(188, 0.005, f'Upper Limit: {round(mean + 3 * std_dev,2)}')"
   ]
  },
  {
   "cell_type": "code",
   "execution_count": 39,
   "id": "64eb2380",
   "metadata": {},
   "outputs": [],
   "source": [
    "# set dataset\n",
    "\n",
    "x = df['Height(cm)']\n",
    "x = x.sort_values()\n",
    "mean = np.mean(x)\n",
    "std_dev = np.std(x, ddof = 1)"
   ]
  },
  {
   "cell_type": "code",
   "execution_count": 40,
   "id": "0b49ee27",
   "metadata": {},
   "outputs": [],
   "source": [
    "# cut off\n",
    "\n",
    "cut_off = 3 * std_dev\n",
    "\n",
    "# lower limit and upper limit\n",
    "\n",
    "lower_limit = mean - cut_off\n",
    "upper_limit = mean + cut_off"
   ]
  },
  {
   "cell_type": "code",
   "execution_count": 41,
   "id": "829e33e9",
   "metadata": {},
   "outputs": [
    {
     "name": "stdout",
     "output_type": "stream",
     "text": [
      "Number of outliers: 51\n",
      "\n",
      "Lower limit according to standard deviation method is 158.21cm.\n",
      "Upper limit according to standard deviation method is 187.19cm.\n",
      "    \n"
     ]
    }
   ],
   "source": [
    "# Identify all outlier\n",
    "\n",
    "outliers = df[(df['Height(cm)'] <= lower_limit) | (df['Height(cm)'] >= upper_limit)]\n",
    "print(f'Number of outliers: { len(outliers)}')\n",
    "\n",
    "print(f'''\n",
    "Lower limit according to standard deviation method is {round(lower_limit,2)}cm.\n",
    "Upper limit according to standard deviation method is {round(upper_limit,2)}cm.\n",
    "    '''\n",
    ")"
   ]
  },
  {
   "cell_type": "code",
   "execution_count": 42,
   "id": "6ae30ff5",
   "metadata": {},
   "outputs": [
    {
     "data": {
      "text/html": [
       "<div>\n",
       "<style scoped>\n",
       "    .dataframe tbody tr th:only-of-type {\n",
       "        vertical-align: middle;\n",
       "    }\n",
       "\n",
       "    .dataframe tbody tr th {\n",
       "        vertical-align: top;\n",
       "    }\n",
       "\n",
       "    .dataframe thead th {\n",
       "        text-align: right;\n",
       "    }\n",
       "</style>\n",
       "<table border=\"1\" class=\"dataframe\">\n",
       "  <thead>\n",
       "    <tr style=\"text-align: right;\">\n",
       "      <th></th>\n",
       "      <th>Index</th>\n",
       "      <th>Height(Inches)</th>\n",
       "      <th>Weight(Pounds)</th>\n",
       "      <th>Weight(Kg)</th>\n",
       "      <th>Height(cm)</th>\n",
       "    </tr>\n",
       "  </thead>\n",
       "  <tbody>\n",
       "    <tr>\n",
       "      <th>138</th>\n",
       "      <td>139</td>\n",
       "      <td>73.90107</td>\n",
       "      <td>151.3913</td>\n",
       "      <td>68.669883</td>\n",
       "      <td>187.708718</td>\n",
       "    </tr>\n",
       "    <tr>\n",
       "      <th>174</th>\n",
       "      <td>175</td>\n",
       "      <td>73.83364</td>\n",
       "      <td>139.2983</td>\n",
       "      <td>63.184594</td>\n",
       "      <td>187.537446</td>\n",
       "    </tr>\n",
       "    <tr>\n",
       "      <th>412</th>\n",
       "      <td>413</td>\n",
       "      <td>62.01666</td>\n",
       "      <td>109.0848</td>\n",
       "      <td>49.479993</td>\n",
       "      <td>157.522316</td>\n",
       "    </tr>\n",
       "    <tr>\n",
       "      <th>1162</th>\n",
       "      <td>1163</td>\n",
       "      <td>74.24899</td>\n",
       "      <td>150.2167</td>\n",
       "      <td>68.137093</td>\n",
       "      <td>188.592435</td>\n",
       "    </tr>\n",
       "    <tr>\n",
       "      <th>1383</th>\n",
       "      <td>1384</td>\n",
       "      <td>74.19488</td>\n",
       "      <td>129.0597</td>\n",
       "      <td>58.540447</td>\n",
       "      <td>188.454995</td>\n",
       "    </tr>\n",
       "  </tbody>\n",
       "</table>\n",
       "</div>"
      ],
      "text/plain": [
       "      Index  Height(Inches)  Weight(Pounds)  Weight(Kg)  Height(cm)\n",
       "138     139        73.90107        151.3913   68.669883  187.708718\n",
       "174     175        73.83364        139.2983   63.184594  187.537446\n",
       "412     413        62.01666        109.0848   49.479993  157.522316\n",
       "1162   1163        74.24899        150.2167   68.137093  188.592435\n",
       "1383   1384        74.19488        129.0597   58.540447  188.454995"
      ]
     },
     "execution_count": 42,
     "metadata": {},
     "output_type": "execute_result"
    }
   ],
   "source": [
    "# Identify all outliers\n",
    "\n",
    "outliers = df[(df['Height(cm)'] <= lower_limit) | (df['Height(cm)'] >= upper_limit)]\n",
    "outliers.head()"
   ]
  },
  {
   "cell_type": "raw",
   "id": "86e0ef9a",
   "metadata": {},
   "source": [
    "\n",
    "\n",
    "\n",
    "\n",
    "\n",
    "\n",
    "\n",
    "\n",
    "\n",
    "\n",
    "\n",
    "\n",
    "\n",
    "\n",
    "\n",
    "\n",
    "\n",
    "\n"
   ]
  },
  {
   "cell_type": "markdown",
   "id": "dcb94861",
   "metadata": {},
   "source": [
    "## [2] Removing Outliers - IQR (Interquantile) Method"
   ]
  },
  {
   "cell_type": "markdown",
   "id": "4a8f8199",
   "metadata": {},
   "source": [
    "A good statistic for summarizing a non-Gaussian distribution sample of data is the Interquartile Range, or IQR for short.\\\n",
    "IQR Method is suitable for treating skewed distribution. In a skewed distribution, the data tend to be concentrated towards one side, resulting in a long tail on either the left or right side of the distribution.\n",
    "\n",
    "The IQR is calculated as the difference between the 75th and the 25th percentiles of the data and defines the box in a box and whisker plot.\n",
    "\n",
    "Remember that percentiles can be calculated by sorting the observations and selecting values at specific indices. The 50th percentile is the middle value, or the average of the two middle values for an even number of examples.\n",
    "\n",
    "We refer to the percentiles as quartiles (“quart” meaning 4) because the data is divided into four groups via the 25th, 50th and 75th values.\n",
    "\n",
    "Refer below for more information regarding IQR Method:\\\n",
    "The minimum of data is: Q1 - 1.5 * IQR\\\n",
    "The maximum of data is: Q3 + 1.5 * IQR"
   ]
  },
  {
   "cell_type": "code",
   "execution_count": 43,
   "id": "daa88b6f",
   "metadata": {},
   "outputs": [],
   "source": [
    "# Quantile\n",
    "\n",
    "quantile = np.quantile(x,[0.25, 0.50, 0.75])\n",
    "Q1 = quantile[0]\n",
    "Q3 = quantile[2]\n",
    "IQR = Q3 - Q1 "
   ]
  },
  {
   "cell_type": "code",
   "execution_count": 44,
   "id": "dda202e8",
   "metadata": {},
   "outputs": [],
   "source": [
    "# Upper limit and lower limit\n",
    "\n",
    "lower_limit = Q1 - IQR\n",
    "upper_limit = Q3 + IQR"
   ]
  },
  {
   "cell_type": "code",
   "execution_count": 45,
   "id": "91b5f094",
   "metadata": {},
   "outputs": [
    {
     "name": "stdout",
     "output_type": "stream",
     "text": [
      "Number of outliers: 1058\n",
      "\n",
      "Lower limit according to standard deviation method is 162.91cm.\n",
      "Upper limit according to standard deviation method is 182.48cm.\n",
      "    \n"
     ]
    }
   ],
   "source": [
    "# Identify all outlier\n",
    "\n",
    "outliers = df[(df['Height(cm)'] <= lower_limit) | (df['Height(cm)'] >= upper_limit)]\n",
    "print(f'Number of outliers: { len(outliers)}')\n",
    "\n",
    "print(f'''\n",
    "Lower limit according to standard deviation method is {round(lower_limit,2)}cm.\n",
    "Upper limit according to standard deviation method is {round(upper_limit,2)}cm.\n",
    "    '''\n",
    ")"
   ]
  },
  {
   "cell_type": "code",
   "execution_count": 46,
   "id": "21457560",
   "metadata": {},
   "outputs": [
    {
     "data": {
      "text/html": [
       "<div>\n",
       "<style scoped>\n",
       "    .dataframe tbody tr th:only-of-type {\n",
       "        vertical-align: middle;\n",
       "    }\n",
       "\n",
       "    .dataframe tbody tr th {\n",
       "        vertical-align: top;\n",
       "    }\n",
       "\n",
       "    .dataframe thead th {\n",
       "        text-align: right;\n",
       "    }\n",
       "</style>\n",
       "<table border=\"1\" class=\"dataframe\">\n",
       "  <thead>\n",
       "    <tr style=\"text-align: right;\">\n",
       "      <th></th>\n",
       "      <th>Index</th>\n",
       "      <th>Height(Inches)</th>\n",
       "      <th>Weight(Pounds)</th>\n",
       "      <th>Weight(Kg)</th>\n",
       "      <th>Height(cm)</th>\n",
       "    </tr>\n",
       "  </thead>\n",
       "  <tbody>\n",
       "    <tr>\n",
       "      <th>22</th>\n",
       "      <td>23</td>\n",
       "      <td>63.48115</td>\n",
       "      <td>97.90191</td>\n",
       "      <td>44.407523</td>\n",
       "      <td>161.242121</td>\n",
       "    </tr>\n",
       "    <tr>\n",
       "      <th>39</th>\n",
       "      <td>40</td>\n",
       "      <td>64.04535</td>\n",
       "      <td>106.71150</td>\n",
       "      <td>48.403483</td>\n",
       "      <td>162.675189</td>\n",
       "    </tr>\n",
       "    <tr>\n",
       "      <th>97</th>\n",
       "      <td>98</td>\n",
       "      <td>63.42577</td>\n",
       "      <td>123.09720</td>\n",
       "      <td>55.835905</td>\n",
       "      <td>161.101456</td>\n",
       "    </tr>\n",
       "    <tr>\n",
       "      <th>109</th>\n",
       "      <td>110</td>\n",
       "      <td>63.83624</td>\n",
       "      <td>127.19410</td>\n",
       "      <td>57.694226</td>\n",
       "      <td>162.144050</td>\n",
       "    </tr>\n",
       "    <tr>\n",
       "      <th>138</th>\n",
       "      <td>139</td>\n",
       "      <td>73.90107</td>\n",
       "      <td>151.39130</td>\n",
       "      <td>68.669883</td>\n",
       "      <td>187.708718</td>\n",
       "    </tr>\n",
       "    <tr>\n",
       "      <th>...</th>\n",
       "      <td>...</td>\n",
       "      <td>...</td>\n",
       "      <td>...</td>\n",
       "      <td>...</td>\n",
       "      <td>...</td>\n",
       "    </tr>\n",
       "    <tr>\n",
       "      <th>24921</th>\n",
       "      <td>24922</td>\n",
       "      <td>72.54953</td>\n",
       "      <td>134.51430</td>\n",
       "      <td>61.014610</td>\n",
       "      <td>184.275806</td>\n",
       "    </tr>\n",
       "    <tr>\n",
       "      <th>24939</th>\n",
       "      <td>24940</td>\n",
       "      <td>72.35889</td>\n",
       "      <td>143.95470</td>\n",
       "      <td>65.296700</td>\n",
       "      <td>183.791581</td>\n",
       "    </tr>\n",
       "    <tr>\n",
       "      <th>24969</th>\n",
       "      <td>24970</td>\n",
       "      <td>63.61791</td>\n",
       "      <td>115.74770</td>\n",
       "      <td>52.502231</td>\n",
       "      <td>161.589491</td>\n",
       "    </tr>\n",
       "    <tr>\n",
       "      <th>24983</th>\n",
       "      <td>24984</td>\n",
       "      <td>63.77967</td>\n",
       "      <td>111.49110</td>\n",
       "      <td>50.571471</td>\n",
       "      <td>162.000362</td>\n",
       "    </tr>\n",
       "    <tr>\n",
       "      <th>24991</th>\n",
       "      <td>24992</td>\n",
       "      <td>71.91656</td>\n",
       "      <td>128.28400</td>\n",
       "      <td>58.188596</td>\n",
       "      <td>182.668062</td>\n",
       "    </tr>\n",
       "  </tbody>\n",
       "</table>\n",
       "<p>1058 rows × 5 columns</p>\n",
       "</div>"
      ],
      "text/plain": [
       "       Index  Height(Inches)  Weight(Pounds)  Weight(Kg)  Height(cm)\n",
       "22        23        63.48115        97.90191   44.407523  161.242121\n",
       "39        40        64.04535       106.71150   48.403483  162.675189\n",
       "97        98        63.42577       123.09720   55.835905  161.101456\n",
       "109      110        63.83624       127.19410   57.694226  162.144050\n",
       "138      139        73.90107       151.39130   68.669883  187.708718\n",
       "...      ...             ...             ...         ...         ...\n",
       "24921  24922        72.54953       134.51430   61.014610  184.275806\n",
       "24939  24940        72.35889       143.95470   65.296700  183.791581\n",
       "24969  24970        63.61791       115.74770   52.502231  161.589491\n",
       "24983  24984        63.77967       111.49110   50.571471  162.000362\n",
       "24991  24992        71.91656       128.28400   58.188596  182.668062\n",
       "\n",
       "[1058 rows x 5 columns]"
      ]
     },
     "execution_count": 46,
     "metadata": {},
     "output_type": "execute_result"
    }
   ],
   "source": [
    "# Identify all outliers\n",
    "\n",
    "outliers = df[(df['Height(cm)'] <= lower_limit) | (df['Height(cm)'] >= upper_limit)]\n",
    "outliers"
   ]
  },
  {
   "cell_type": "markdown",
   "id": "75496f97",
   "metadata": {},
   "source": [
    "## [3] Removing Outliers - Percentile Method"
   ]
  },
  {
   "cell_type": "markdown",
   "id": "1ea5c6ee",
   "metadata": {},
   "source": [
    "Use a percentile-based approach.\\\n",
    "For Example, data points that are far from the 99% percentile and less than 1 percentile are considered an outlier.\n",
    "\n",
    "The percentile method is a technique used to treat outliers by identifying and capping extreme values based on a specified percentage threshold. It involves calculating the threshold values based on percentiles and replacing any data points that exceed these threshold with the corresponding threshold value.\n",
    "\n",
    "The process to handle outliers using this method is:\n",
    "1. Determine the percentage threshold. Select a percentage value that represent the threshold for extreme values. Commonly ised threshold are 95th Percentile(5% of datapoints are considered outliers) and 99th Percentile (1% of datapoints are considered outliers).\n",
    "2. Calculate the threshold value. Use the chosen percentile to calculate the upper and lower threshold.\n",
    "3. Identify and replace outliers. Iterate through the dataset and identify any data that exceed the upper or lower threshold."
   ]
  },
  {
   "cell_type": "code",
   "execution_count": 47,
   "id": "b7cbe849",
   "metadata": {},
   "outputs": [],
   "source": [
    "# upper limit and lower limit\n",
    "\n",
    "lower_limit = np.quantile(x,0.01)\n",
    "upper_limit = np.quantile(x,0.99)"
   ]
  },
  {
   "cell_type": "code",
   "execution_count": 48,
   "id": "7379c97e",
   "metadata": {},
   "outputs": [
    {
     "name": "stdout",
     "output_type": "stream",
     "text": [
      "Number of outliers: 500\n",
      "\n",
      "Lower limit according to standard deviation method is 161.54cm.\n",
      "Upper limit according to standard deviation method is 183.83cm.\n",
      "    \n"
     ]
    }
   ],
   "source": [
    "# Identify all outlier\n",
    "\n",
    "outliers = df[(df['Height(cm)'] <= lower_limit) | (df['Height(cm)'] >= upper_limit)]\n",
    "print(f'Number of outliers: { len(outliers)}')\n",
    "\n",
    "print(f'''\n",
    "Lower limit according to standard deviation method is {round(lower_limit,2)}cm.\n",
    "Upper limit according to standard deviation method is {round(upper_limit,2)}cm.\n",
    "    '''\n",
    ")"
   ]
  },
  {
   "cell_type": "code",
   "execution_count": 49,
   "id": "f74a23ad",
   "metadata": {},
   "outputs": [
    {
     "data": {
      "text/html": [
       "<div>\n",
       "<style scoped>\n",
       "    .dataframe tbody tr th:only-of-type {\n",
       "        vertical-align: middle;\n",
       "    }\n",
       "\n",
       "    .dataframe tbody tr th {\n",
       "        vertical-align: top;\n",
       "    }\n",
       "\n",
       "    .dataframe thead th {\n",
       "        text-align: right;\n",
       "    }\n",
       "</style>\n",
       "<table border=\"1\" class=\"dataframe\">\n",
       "  <thead>\n",
       "    <tr style=\"text-align: right;\">\n",
       "      <th></th>\n",
       "      <th>Index</th>\n",
       "      <th>Height(Inches)</th>\n",
       "      <th>Weight(Pounds)</th>\n",
       "      <th>Weight(Kg)</th>\n",
       "      <th>Height(cm)</th>\n",
       "    </tr>\n",
       "  </thead>\n",
       "  <tbody>\n",
       "    <tr>\n",
       "      <th>22</th>\n",
       "      <td>23</td>\n",
       "      <td>63.48115</td>\n",
       "      <td>97.90191</td>\n",
       "      <td>44.407523</td>\n",
       "      <td>161.242121</td>\n",
       "    </tr>\n",
       "    <tr>\n",
       "      <th>97</th>\n",
       "      <td>98</td>\n",
       "      <td>63.42577</td>\n",
       "      <td>123.09720</td>\n",
       "      <td>55.835905</td>\n",
       "      <td>161.101456</td>\n",
       "    </tr>\n",
       "    <tr>\n",
       "      <th>138</th>\n",
       "      <td>139</td>\n",
       "      <td>73.90107</td>\n",
       "      <td>151.39130</td>\n",
       "      <td>68.669883</td>\n",
       "      <td>187.708718</td>\n",
       "    </tr>\n",
       "    <tr>\n",
       "      <th>154</th>\n",
       "      <td>155</td>\n",
       "      <td>72.44434</td>\n",
       "      <td>136.73970</td>\n",
       "      <td>62.024034</td>\n",
       "      <td>184.008624</td>\n",
       "    </tr>\n",
       "    <tr>\n",
       "      <th>174</th>\n",
       "      <td>175</td>\n",
       "      <td>73.83364</td>\n",
       "      <td>139.29830</td>\n",
       "      <td>63.184594</td>\n",
       "      <td>187.537446</td>\n",
       "    </tr>\n",
       "    <tr>\n",
       "      <th>...</th>\n",
       "      <td>...</td>\n",
       "      <td>...</td>\n",
       "      <td>...</td>\n",
       "      <td>...</td>\n",
       "      <td>...</td>\n",
       "    </tr>\n",
       "    <tr>\n",
       "      <th>24781</th>\n",
       "      <td>24782</td>\n",
       "      <td>63.28029</td>\n",
       "      <td>116.05980</td>\n",
       "      <td>52.643797</td>\n",
       "      <td>160.731937</td>\n",
       "    </tr>\n",
       "    <tr>\n",
       "      <th>24801</th>\n",
       "      <td>24802</td>\n",
       "      <td>74.53177</td>\n",
       "      <td>148.91040</td>\n",
       "      <td>67.544566</td>\n",
       "      <td>189.310696</td>\n",
       "    </tr>\n",
       "    <tr>\n",
       "      <th>24868</th>\n",
       "      <td>24869</td>\n",
       "      <td>63.23624</td>\n",
       "      <td>97.99816</td>\n",
       "      <td>44.451181</td>\n",
       "      <td>160.620050</td>\n",
       "    </tr>\n",
       "    <tr>\n",
       "      <th>24883</th>\n",
       "      <td>24884</td>\n",
       "      <td>73.06241</td>\n",
       "      <td>141.50540</td>\n",
       "      <td>64.185717</td>\n",
       "      <td>185.578521</td>\n",
       "    </tr>\n",
       "    <tr>\n",
       "      <th>24921</th>\n",
       "      <td>24922</td>\n",
       "      <td>72.54953</td>\n",
       "      <td>134.51430</td>\n",
       "      <td>61.014610</td>\n",
       "      <td>184.275806</td>\n",
       "    </tr>\n",
       "  </tbody>\n",
       "</table>\n",
       "<p>500 rows × 5 columns</p>\n",
       "</div>"
      ],
      "text/plain": [
       "       Index  Height(Inches)  Weight(Pounds)  Weight(Kg)  Height(cm)\n",
       "22        23        63.48115        97.90191   44.407523  161.242121\n",
       "97        98        63.42577       123.09720   55.835905  161.101456\n",
       "138      139        73.90107       151.39130   68.669883  187.708718\n",
       "154      155        72.44434       136.73970   62.024034  184.008624\n",
       "174      175        73.83364       139.29830   63.184594  187.537446\n",
       "...      ...             ...             ...         ...         ...\n",
       "24781  24782        63.28029       116.05980   52.643797  160.731937\n",
       "24801  24802        74.53177       148.91040   67.544566  189.310696\n",
       "24868  24869        63.23624        97.99816   44.451181  160.620050\n",
       "24883  24884        73.06241       141.50540   64.185717  185.578521\n",
       "24921  24922        72.54953       134.51430   61.014610  184.275806\n",
       "\n",
       "[500 rows x 5 columns]"
      ]
     },
     "execution_count": 49,
     "metadata": {},
     "output_type": "execute_result"
    }
   ],
   "source": [
    "# Identify all outliers\n",
    "\n",
    "outliers = df[(df['Height(cm)'] <= lower_limit) | (df['Height(cm)'] >= upper_limit)]\n",
    "outliers"
   ]
  }
 ],
 "metadata": {
  "kernelspec": {
   "display_name": "Python 3 (ipykernel)",
   "language": "python",
   "name": "python3"
  },
  "language_info": {
   "codemirror_mode": {
    "name": "ipython",
    "version": 3
   },
   "file_extension": ".py",
   "mimetype": "text/x-python",
   "name": "python",
   "nbconvert_exporter": "python",
   "pygments_lexer": "ipython3",
   "version": "3.10.9"
  }
 },
 "nbformat": 4,
 "nbformat_minor": 5
}
